{
 "cells": [
  {
   "cell_type": "code",
   "execution_count": 1,
   "metadata": {},
   "outputs": [],
   "source": [
    "import matplotlib.pyplot as plt\n",
    "from sklearn.neighbors import KNeighborsClassifier\n",
    "from sklearn.neighbors import NearestNeighbors\n",
    "import pandas as pd\n",
    "import os\n",
    "from sklearn import tree\n",
    "from sklearn.ensemble import RandomForestClassifier\n",
    "from sklearn.model_selection import train_test_split\n",
    "import numpy as np\n",
    "from sklearn.cluster import KMeans\n",
    "%matplotlib inline\n",
    "from sklearn.preprocessing import StandardScaler\n",
    "import warnings\n",
    "warnings.simplefilter('ignore')\n",
    "import numpy as np\n"
   ]
  },
  {
   "cell_type": "code",
   "execution_count": 2,
   "metadata": {
    "scrolled": true
   },
   "outputs": [],
   "source": [
    "housing_training_data = pd.read_csv(\"housing_training_data.csv\")\n"
   ]
  },
  {
   "cell_type": "code",
   "execution_count": 3,
   "metadata": {},
   "outputs": [],
   "source": [
    "house_data_for_results = pd.read_csv(\"combination_data/housing_complete_data.csv\")"
   ]
  },
  {
   "cell_type": "code",
   "execution_count": 4,
   "metadata": {},
   "outputs": [],
   "source": [
    "X = housing_training_data[['price', \"beds\", 'baths', \"square_feet\", \"lot_size\", 'hoa_permonth', \"Summer Temp\", \"Winter Temp\", \"population\"]]"
   ]
  },
  {
   "cell_type": "code",
   "execution_count": 21,
   "metadata": {},
   "outputs": [],
   "source": [
    "# X.head(100)"
   ]
  },
  {
   "cell_type": "code",
   "execution_count": 6,
   "metadata": {},
   "outputs": [],
   "source": [
    "data = X.copy()"
   ]
  },
  {
   "cell_type": "code",
   "execution_count": 7,
   "metadata": {},
   "outputs": [],
   "source": [
    "from sklearn.model_selection import train_test_split\n",
    "X_train, X_test= train_test_split(X, random_state=42)"
   ]
  },
  {
   "cell_type": "code",
   "execution_count": 8,
   "metadata": {},
   "outputs": [],
   "source": [
    "from sklearn.preprocessing import StandardScaler\n",
    "X_scaler = StandardScaler().fit(X)\n"
   ]
  },
  {
   "cell_type": "code",
   "execution_count": 9,
   "metadata": {},
   "outputs": [],
   "source": [
    "X_train_scaled = X_scaler.transform(X)\n"
   ]
  },
  {
   "cell_type": "code",
   "execution_count": 10,
   "metadata": {},
   "outputs": [],
   "source": [
    "kmeans = KMeans(n_clusters=200)"
   ]
  },
  {
   "cell_type": "code",
   "execution_count": 11,
   "metadata": {},
   "outputs": [
    {
     "data": {
      "text/plain": [
       "KMeans(n_clusters=200)"
      ]
     },
     "execution_count": 11,
     "metadata": {},
     "output_type": "execute_result"
    }
   ],
   "source": [
    "kmeans.fit(X)\n"
   ]
  },
  {
   "cell_type": "code",
   "execution_count": 12,
   "metadata": {},
   "outputs": [],
   "source": [
    "predicted_clusters = kmeans.predict(X)"
   ]
  },
  {
   "cell_type": "code",
   "execution_count": 13,
   "metadata": {},
   "outputs": [],
   "source": [
    "Xlist = X.to_numpy()"
   ]
  },
  {
   "cell_type": "markdown",
   "metadata": {},
   "source": [
    "### HERE BEGINS THE MAGIC"
   ]
  },
  {
   "cell_type": "code",
   "execution_count": 14,
   "metadata": {},
   "outputs": [],
   "source": [
    "kmeans.fit(Xlist)\n",
    "predicted_clusters = kmeans.predict(Xlist)"
   ]
  },
  {
   "cell_type": "code",
   "execution_count": 15,
   "metadata": {},
   "outputs": [],
   "source": [
    "# Print the cluster centers and cluster labels\n",
    "centers = kmeans.cluster_centers_\n",
    "labels = kmeans.labels_"
   ]
  },
  {
   "cell_type": "code",
   "execution_count": 16,
   "metadata": {},
   "outputs": [],
   "source": [
    "# centers"
   ]
  },
  {
   "cell_type": "code",
   "execution_count": 17,
   "metadata": {},
   "outputs": [],
   "source": [
    "cat = kmeans.predict(Xlist[0].reshape(1, -1))"
   ]
  },
  {
   "cell_type": "code",
   "execution_count": 18,
   "metadata": {},
   "outputs": [],
   "source": [
    "house_list = []\n",
    "\n",
    "for i in range(4000):\n",
    "    if kmeans.predict(Xlist[i].reshape(1, -1)) == cat:\n",
    "#         print (housing_training_data.iloc[i])\n",
    "#         print (housing_training_data.house_id[i])\n",
    "        house_list.append(housing_training_data.house_id[i])\n",
    "#         print (Xlist[i])\n",
    "#         print (kmeans.predict(Xlist[i].reshape(1, -1)))\n",
    "        \n",
    "    "
   ]
  },
  {
   "cell_type": "code",
   "execution_count": 19,
   "metadata": {},
   "outputs": [],
   "source": [
    "results_df = house_data_for_results[house_data_for_results[\"house_id\"].isin(house_list)]\n",
    "# results_df"
   ]
  },
  {
   "cell_type": "code",
   "execution_count": 20,
   "metadata": {},
   "outputs": [
    {
     "data": {
      "text/plain": [
       "'<table border=\"1\" class=\"dataframe results\">\\n  <thead>\\n    <tr style=\"text-align: right;\">\\n      <th></th>\\n      <th>Unnamed: 0</th>\\n      <th>house_id</th>\\n      <th>property_type</th>\\n      <th>address</th>\\n      <th>city</th>\\n      <th>state</th>\\n      <th>zip_code</th>\\n      <th>price</th>\\n      <th>beds</th>\\n      <th>baths</th>\\n      <th>square_feet</th>\\n      <th>lot_size</th>\\n      <th>year_built</th>\\n      <th>hoa_permonth</th>\\n      <th>url</th>\\n      <th>latitude</th>\\n      <th>longitude</th>\\n      <th>Summer Temp</th>\\n      <th>Winter Temp</th>\\n      <th>population</th>\\n      <th>pop_cat</th>\\n    </tr>\\n  </thead>\\n  <tbody>\\n    <tr>\\n      <th>0</th>\\n      <td>0</td>\\n      <td>1</td>\\n      <td>Single Family Residential</td>\\n      <td>32996 Heather Glen Ct</td>\\n      <td>Anchor Point</td>\\n      <td>AK</td>\\n      <td>99556</td>\\n      <td>369900.0</td>\\n      <td>5.0</td>\\n      <td>3.0</td>\\n      <td>2500.0</td>\\n      <td>404672.0</td>\\n      <td>2016</td>\\n      <td>0.0</td>\\n      <td>http://www.redfin.com/AK/Unknown/32996-HEATHER-GLEN-CT-Unknown/home/133669331</td>\\n      <td>59.794550</td>\\n      <td>-151.827787</td>\\n      <td>61.0</td>\\n      <td>19.0</td>\\n      <td>1930.0</td>\\n      <td>small</td>\\n    </tr>\\n    <tr>\\n      <th>5</th>\\n      <td>5</td>\\n      <td>6</td>\\n      <td>Single Family Residential</td>\\n      <td>71185 Kutafya Rd</td>\\n      <td>Anchor Point</td>\\n      <td>AK</td>\\n      <td>99556</td>\\n      <td>369000.0</td>\\n      <td>4.0</td>\\n      <td>2.0</td>\\n      <td>2945.0</td>\\n      <td>384199.0</td>\\n      <td>1983</td>\\n      <td>0.0</td>\\n      <td>http://www.redfin.com/AK/Anchor-Point/71185-Kutafya-Rd-99556/home/133170908</td>\\n      <td>59.837067</td>\\n      <td>-151.798715</td>\\n      <td>61.0</td>\\n      <td>19.0</td>\\n      <td>1930.0</td>\\n      <td>small</td>\\n    </tr>\\n    <tr>\\n      <th>11</th>\\n      <td>11</td>\\n      <td>12</td>\\n      <td>Single Family Residential</td>\\n      <td>26957 Sterling Hwy</td>\\n      <td>Anchor Point</td>\\n      <td>AK</td>\\n      <td>99556</td>\\n      <td>324000.0</td>\\n      <td>3.0</td>\\n      <td>3.0</td>\\n      <td>2824.0</td>\\n      <td>336283.0</td>\\n      <td>1986</td>\\n      <td>0.0</td>\\n      <td>http://www.redfin.com/AK/Anchor-Point/26957-Sterling-Hwy-99556/home/133500310</td>\\n      <td>59.881606</td>\\n      <td>-151.789736</td>\\n      <td>61.0</td>\\n      <td>19.0</td>\\n      <td>1930.0</td>\\n      <td>small</td>\\n    </tr>\\n    <tr>\\n      <th>14</th>\\n      <td>14</td>\\n      <td>15</td>\\n      <td>Single Family Residential</td>\\n      <td>28160 Chestes Rd</td>\\n      <td>Anchor Point</td>\\n      <td>AK</td>\\n      <td>99556</td>\\n      <td>324900.0</td>\\n      <td>7.0</td>\\n      <td>8.0</td>\\n      <td>3884.0</td>\\n      <td>394218.0</td>\\n      <td>2002</td>\\n      <td>0.0</td>\\n      <td>http://www.redfin.com/AK/Anchor-Point/28160-Chestes-St-99556/home/133643060</td>\\n      <td>59.864220</td>\\n      <td>-151.716568</td>\\n      <td>61.0</td>\\n      <td>19.0</td>\\n      <td>1930.0</td>\\n      <td>small</td>\\n    </tr>\\n    <tr>\\n      <th>15</th>\\n      <td>15</td>\\n      <td>16</td>\\n      <td>Single Family Residential</td>\\n      <td>34614 North Fork Rd</td>\\n      <td>Anchor Point</td>\\n      <td>AK</td>\\n      <td>99556</td>\\n      <td>339500.0</td>\\n      <td>1.0</td>\\n      <td>1.0</td>\\n      <td>1920.0</td>\\n      <td>479160.0</td>\\n      <td>1994</td>\\n      <td>0.0</td>\\n      <td>http://www.redfin.com/AK/Anchor-Point/34614-N-Fork-Rd-99556/home/133665864</td>\\n      <td>59.796937</td>\\n      <td>-151.769223</td>\\n      <td>61.0</td>\\n      <td>19.0</td>\\n      <td>1930.0</td>\\n      <td>small</td>\\n    </tr>\\n    <tr>\\n      <th>22</th>\\n      <td>22</td>\\n      <td>23</td>\\n      <td>Single Family Residential</td>\\n      <td>27155 Cloyds Rd</td>\\n      <td>Anchor Point</td>\\n      <td>AK</td>\\n      <td>99556</td>\\n      <td>204000.0</td>\\n      <td>1.0</td>\\n      <td>1.0</td>\\n      <td>512.0</td>\\n      <td>470448.0</td>\\n      <td>1999</td>\\n      <td>0.0</td>\\n      <td>http://www.redfin.com/AK/Anchor-Point/27155-Cloyds-Rd-99556/home/133320162</td>\\n      <td>59.886725</td>\\n      <td>-151.742457</td>\\n      <td>61.0</td>\\n      <td>19.0</td>\\n      <td>1930.0</td>\\n      <td>small</td>\\n    </tr>\\n    <tr>\\n      <th>317</th>\\n      <td>317</td>\\n      <td>318</td>\\n      <td>Single Family Residential</td>\\n      <td>52340 Sterling Hwy</td>\\n      <td>Kasilof</td>\\n      <td>AK</td>\\n      <td>99610</td>\\n      <td>165000.0</td>\\n      <td>1.0</td>\\n      <td>1.0</td>\\n      <td>320.0</td>\\n      <td>653400.0</td>\\n      <td>2016</td>\\n      <td>0.0</td>\\n      <td>http://www.redfin.com/AK/Kasilof/52340-Sterling-HWY-99610/home/172232759</td>\\n      <td>60.380425</td>\\n      <td>-151.194968</td>\\n      <td>62.0</td>\\n      <td>21.0</td>\\n      <td>549.0</td>\\n      <td>small</td>\\n    </tr>\\n    <tr>\\n      <th>430</th>\\n      <td>430</td>\\n      <td>431</td>\\n      <td>Single Family Residential</td>\\n      <td>14845 Lobo Ln</td>\\n      <td>Ninilchik</td>\\n      <td>AK</td>\\n      <td>99639</td>\\n      <td>149500.0</td>\\n      <td>2.0</td>\\n      <td>1.0</td>\\n      <td>992.0</td>\\n      <td>486129.0</td>\\n      <td>1990</td>\\n      <td>0.0</td>\\n      <td>http://www.redfin.com/AK/Ninilchik/14845-Lobo-Ln-99639/home/172232434</td>\\n      <td>60.050308</td>\\n      <td>-151.261502</td>\\n      <td>64.0</td>\\n      <td>8.0</td>\\n      <td>883.0</td>\\n      <td>small</td>\\n    </tr>\\n    <tr>\\n      <th>518</th>\\n      <td>518</td>\\n      <td>519</td>\\n      <td>Single Family Residential</td>\\n      <td>10703 S Old Glenn Hwy</td>\\n      <td>Palmer</td>\\n      <td>AK</td>\\n      <td>99645</td>\\n      <td>324900.0</td>\\n      <td>9.0</td>\\n      <td>4.0</td>\\n      <td>3480.0</td>\\n      <td>409464.0</td>\\n      <td>1966</td>\\n      <td>0.0</td>\\n      <td>http://www.redfin.com/AK/Palmer/10703-S-Old-Glenn-Hwy-99645/home/172231680</td>\\n      <td>61.485581</td>\\n      <td>-149.115956</td>\\n      <td>50.1</td>\\n      <td>7.7</td>\\n      <td>5937.0</td>\\n      <td>middle</td>\\n    </tr>\\n    <tr>\\n      <th>579</th>\\n      <td>579</td>\\n      <td>580</td>\\n      <td>Single Family Residential</td>\\n      <td>35250 James St</td>\\n      <td>Soldotna</td>\\n      <td>AK</td>\\n      <td>99669</td>\\n      <td>189000.0</td>\\n      <td>1.0</td>\\n      <td>1.0</td>\\n      <td>816.0</td>\\n      <td>395089.0</td>\\n      <td>1985</td>\\n      <td>0.0</td>\\n      <td>http://www.redfin.com/AK/Soldotna/35250-James-St-99669/home/133181579</td>\\n      <td>60.490455</td>\\n      <td>-150.821650</td>\\n      <td>61.0</td>\\n      <td>19.0</td>\\n      <td>4163.0</td>\\n      <td>middle</td>\\n    </tr>\\n    <tr>\\n      <th>648</th>\\n      <td>648</td>\\n      <td>649</td>\\n      <td>Single Family Residential</td>\\n      <td>38061 Tim Ross Rd</td>\\n      <td>Sterling</td>\\n      <td>AK</td>\\n      <td>99672</td>\\n      <td>239000.0</td>\\n      <td>2.0</td>\\n      <td>2.0</td>\\n      <td>1050.0</td>\\n      <td>374616.0</td>\\n      <td>2008</td>\\n      <td>0.0</td>\\n      <td>http://www.redfin.com/AK/Sterling/38061-Tim-Ross-Cir-99672/home/133260898</td>\\n      <td>60.532067</td>\\n      <td>-150.646238</td>\\n      <td>62.0</td>\\n      <td>21.0</td>\\n      <td>5617.0</td>\\n      <td>middle</td>\\n    </tr>\\n    <tr>\\n      <th>666</th>\\n      <td>666</td>\\n      <td>667</td>\\n      <td>Single Family Residential</td>\\n      <td>26129 N Glenn Hwy</td>\\n      <td>Sutton</td>\\n      <td>AK</td>\\n      <td>99674</td>\\n      <td>375000.0</td>\\n      <td>3.0</td>\\n      <td>2.0</td>\\n      <td>2376.0</td>\\n      <td>525769.0</td>\\n      <td>1972</td>\\n      <td>0.0</td>\\n      <td>http://www.redfin.com/AK/Sutton/26129-N-Glenn-Hwy-99674/home/166749948</td>\\n      <td>61.740591</td>\\n      <td>-148.669284</td>\\n      <td>64.0</td>\\n      <td>8.0</td>\\n      <td>1447.0</td>\\n      <td>small</td>\\n    </tr>\\n    <tr>\\n      <th>689</th>\\n      <td>689</td>\\n      <td>690</td>\\n      <td>Single Family Residential</td>\\n      <td>1981 E Holobinko Rd</td>\\n      <td>Wasilla</td>\\n      <td>AK</td>\\n      <td>99654</td>\\n      <td>315000.0</td>\\n      <td>1.0</td>\\n      <td>1.0</td>\\n      <td>672.0</td>\\n      <td>434293.0</td>\\n      <td>1975</td>\\n      <td>0.0</td>\\n      <td>http://www.redfin.com/AK/Wasilla/1981-E-Holobinko-Rd-99654/home/166749933</td>\\n      <td>61.661364</td>\\n      <td>-149.406413</td>\\n      <td>65.0</td>\\n      <td>6.0</td>\\n      <td>7831.0</td>\\n      <td>middle</td>\\n    </tr>\\n    <tr>\\n      <th>719</th>\\n      <td>719</td>\\n      <td>720</td>\\n      <td>Single Family Residential</td>\\n      <td>2769 E Coles Rd</td>\\n      <td>Wasilla</td>\\n      <td>AK</td>\\n      <td>99654</td>\\n      <td>374999.0</td>\\n      <td>2.0</td>\\n      <td>2.0</td>\\n      <td>1552.0</td>\\n      <td>417740.0</td>\\n      <td>1993</td>\\n      <td>0.0</td>\\n      <td>http://www.redfin.com/AK/Wasilla/2769-E-Coles-Rd-99654/home/134427525</td>\\n      <td>61.665207</td>\\n      <td>-149.383394</td>\\n      <td>65.0</td>\\n      <td>6.0</td>\\n      <td>7831.0</td>\\n      <td>middle</td>\\n    </tr>\\n    <tr>\\n      <th>778</th>\\n      <td>778</td>\\n      <td>779</td>\\n      <td>Single Family Residential</td>\\n      <td>3951 Wyoming Dr</td>\\n      <td>Wasilla</td>\\n      <td>AK</td>\\n      <td>99623</td>\\n      <td>371000.0</td>\\n      <td>3.0</td>\\n      <td>2.0</td>\\n      <td>1439.0</td>\\n      <td>423404.0</td>\\n      <td>2020</td>\\n      <td>0.0</td>\\n      <td>http://www.redfin.com/AK/Wasilla/3951-Wyoming-Dr-99623/home/134457965</td>\\n      <td>61.625561</td>\\n      <td>-149.584790</td>\\n      <td>65.0</td>\\n      <td>6.0</td>\\n      <td>7831.0</td>\\n      <td>middle</td>\\n    </tr>\\n    <tr>\\n      <th>826</th>\\n      <td>826</td>\\n      <td>827</td>\\n      <td>Single Family Residential</td>\\n      <td>11759 N Maxwell Dr</td>\\n      <td>Willow</td>\\n      <td>AK</td>\\n      <td>99688</td>\\n      <td>450000.0</td>\\n      <td>4.0</td>\\n      <td>3.0</td>\\n      <td>3669.0</td>\\n      <td>548420.0</td>\\n      <td>1995</td>\\n      <td>0.0</td>\\n      <td>http://www.redfin.com/AK/Willow/11759-N-Maxwell-Dr-99674/home/172190775</td>\\n      <td>61.719594</td>\\n      <td>-150.084109</td>\\n      <td>65.0</td>\\n      <td>6.0</td>\\n      <td>2102.0</td>\\n      <td>small</td>\\n    </tr>\\n    <tr>\\n      <th>839</th>\\n      <td>839</td>\\n      <td>840</td>\\n      <td>Single Family Residential</td>\\n      <td>25445 Landlocked Ave</td>\\n      <td>Willow</td>\\n      <td>AK</td>\\n      <td>99688</td>\\n      <td>99500.0</td>\\n      <td>2.0</td>\\n      <td>1.0</td>\\n      <td>640.0</td>\\n      <td>377665.0</td>\\n      <td>2016</td>\\n      <td>0.0</td>\\n      <td>http://www.redfin.com/AK/Willow/25445-Landlocked-Ave-99688/home/172648138</td>\\n      <td>61.844086</td>\\n      <td>-150.094718</td>\\n      <td>65.0</td>\\n      <td>6.0</td>\\n      <td>2102.0</td>\\n      <td>small</td>\\n    </tr>\\n    <tr>\\n      <th>979</th>\\n      <td>979</td>\\n      <td>980</td>\\n      <td>Single Family Residential</td>\\n      <td>164 Naval Reserve Rd</td>\\n      <td>Bessemer</td>\\n      <td>AL</td>\\n      <td>35023</td>\\n      <td>234900.0</td>\\n      <td>3.0</td>\\n      <td>2.0</td>\\n      <td>1940.0</td>\\n      <td>479160.0</td>\\n      <td>1930.0</td>\\n      <td>0.0</td>\\n      <td>http://www.redfin.com/AL/Bessemer/164-Naval-Reserve-Rd-35023/home/80890637</td>\\n      <td>33.534403</td>\\n      <td>-87.227165</td>\\n      <td>91.0</td>\\n      <td>33.0</td>\\n      <td>27456.0</td>\\n      <td>middle</td>\\n    </tr>\\n    <tr>\\n      <th>1264</th>\\n      <td>1264</td>\\n      <td>1265</td>\\n      <td>Single Family Residential</td>\\n      <td>5051 Old Moulton Rd</td>\\n      <td>Decatur</td>\\n      <td>AL</td>\\n      <td>35603</td>\\n      <td>179900.0</td>\\n      <td>3.0</td>\\n      <td>1.0</td>\\n      <td>1400.0</td>\\n      <td>479160.0</td>\\n      <td>1958.0</td>\\n      <td>0.0</td>\\n      <td>http://www.redfin.com/AL/Decatur/5051-Old-Moulton-Rd-35603/home/134696498</td>\\n      <td>34.526802</td>\\n      <td>-87.086013</td>\\n      <td>88.0</td>\\n      <td>32.0</td>\\n      <td>55683.0</td>\\n      <td>large</td>\\n    </tr>\\n    <tr>\\n      <th>1975</th>\\n      <td>1975</td>\\n      <td>1976</td>\\n      <td>Single Family Residential</td>\\n      <td>7854 Old Dixiana Rd</td>\\n      <td>Pinson</td>\\n      <td>AL</td>\\n      <td>35123</td>\\n      <td>120000.0</td>\\n      <td>2.0</td>\\n      <td>2.0</td>\\n      <td>1448.0</td>\\n      <td>435600.0</td>\\n      <td>1965.0</td>\\n      <td>0.0</td>\\n      <td>http://www.redfin.com/AL/Pinson/7854-Old-Dixiana-Rd-35126/home/80849169</td>\\n      <td>33.731342</td>\\n      <td>-86.704731</td>\\n      <td>90.0</td>\\n      <td>30.0</td>\\n      <td>7163.0</td>\\n      <td>middle</td>\\n    </tr>\\n    <tr>\\n      <th>2479</th>\\n      <td>2479</td>\\n      <td>2480</td>\\n      <td>Condo/Co-op</td>\\n      <td>909 W 22nd</td>\\n      <td>North Little Rock</td>\\n      <td>AR</td>\\n      <td>72114.0</td>\\n      <td>99000.0</td>\\n      <td>3.0</td>\\n      <td>2.0</td>\\n      <td>2320.0</td>\\n      <td>696960.0</td>\\n      <td>2007.0</td>\\n      <td>0.0</td>\\n      <td>http://www.redfin.com/AR/North-Little-Rock/909-W-22nd-St-72114/home/82986276</td>\\n      <td>34.776140</td>\\n      <td>-92.277504</td>\\n      <td>81.9</td>\\n      <td>41.8</td>\\n      <td>62304.0</td>\\n      <td>large</td>\\n    </tr>\\n  </tbody>\\n</table>'"
      ]
     },
     "execution_count": 20,
     "metadata": {},
     "output_type": "execute_result"
    }
   ],
   "source": [
    "results_df.to_html(classes=\"results\")"
   ]
  },
  {
   "cell_type": "code",
   "execution_count": null,
   "metadata": {},
   "outputs": [],
   "source": []
  }
 ],
 "metadata": {
  "kernelspec": {
   "display_name": "Python 3",
   "language": "python",
   "name": "python3"
  },
  "language_info": {
   "codemirror_mode": {
    "name": "ipython",
    "version": 3
   },
   "file_extension": ".py",
   "mimetype": "text/x-python",
   "name": "python",
   "nbconvert_exporter": "python",
   "pygments_lexer": "ipython3",
   "version": "3.6.10"
  }
 },
 "nbformat": 4,
 "nbformat_minor": 4
}
