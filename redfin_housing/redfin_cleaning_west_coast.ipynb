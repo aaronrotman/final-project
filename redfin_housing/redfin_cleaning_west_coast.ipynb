{
 "cells": [
  {
   "cell_type": "code",
   "execution_count": 49,
   "metadata": {},
   "outputs": [],
   "source": [
    "import pandas as pd\n",
    "import numpy as np"
   ]
  },
  {
   "cell_type": "code",
   "execution_count": 50,
   "metadata": {},
   "outputs": [],
   "source": [
    "boise_id = pd.read_csv(\"west_coast_redfin/boise_id.csv\")\n",
    "losangeles_ca = pd.read_csv(\"west_coast_redfin/losangeles_ca.csv\")\n",
    "seattle_wa = pd.read_csv(\"west_coast_redfin/seattle_wa.csv\")\n",
    "portlan_or = pd.read_csv(\"west_coast_redfin/portland_or.csv\")\n",
    "sanfrancisco_ca = pd.read_csv(\"west_coast_redfin/sanfrancisco_ca.csv\")\n",
    "lasvegas_nv = pd.read_csv(\"west_coast_redfin/lasvegas_nv.csv\")\n",
    "sandiego_ca = pd.read_csv(\"west_coast_redfin/sandiego_ca.csv\")\n"
   ]
  },
  {
   "cell_type": "code",
   "execution_count": 51,
   "metadata": {},
   "outputs": [],
   "source": [
    "# for col in littleRock_ar.columns: \n",
    "#     print(col) "
   ]
  },
  {
   "cell_type": "code",
   "execution_count": 52,
   "metadata": {},
   "outputs": [],
   "source": [
    "boise_id_dropped_col = boise_id.drop(columns=['SALE TYPE', 'SOLD DATE', 'DAYS ON MARKET', '$/SQUARE FEET', 'STATUS', 'NEXT OPEN HOUSE START TIME', \n",
    "                            'NEXT OPEN HOUSE END TIME', 'SOURCE', 'MLS#', 'FAVORITE', 'INTERESTED', \"LOCATION\"])\n",
    "\n",
    "lasvegas_nv_dropped_col = lasvegas_nv.drop(columns=['SALE TYPE', 'SOLD DATE', 'DAYS ON MARKET', '$/SQUARE FEET', 'STATUS', 'NEXT OPEN HOUSE START TIME', \n",
    "                            'NEXT OPEN HOUSE END TIME', 'SOURCE', 'MLS#', 'FAVORITE', 'INTERESTED', \"LOCATION\"])\n",
    "\n",
    "losangeles_ca_dropped_col = losangeles_ca.drop(columns=['SALE TYPE', 'SOLD DATE', 'DAYS ON MARKET', '$/SQUARE FEET', 'STATUS', 'NEXT OPEN HOUSE START TIME', \n",
    "                            'NEXT OPEN HOUSE END TIME', 'SOURCE', 'MLS#', 'FAVORITE', 'INTERESTED', \"LOCATION\"])\n",
    "\n",
    "seattle_wa_dropped_col = seattle_wa.drop(columns=['SALE TYPE', 'SOLD DATE', 'DAYS ON MARKET', '$/SQUARE FEET', 'STATUS', 'NEXT OPEN HOUSE START TIME', \n",
    "                            'NEXT OPEN HOUSE END TIME', 'SOURCE', 'MLS#', 'FAVORITE', 'INTERESTED', \"LOCATION\"])\n",
    "\n",
    "portlan_or_dropped_col = portlan_or.drop(columns=['SALE TYPE', 'SOLD DATE', 'DAYS ON MARKET', '$/SQUARE FEET', 'STATUS', 'NEXT OPEN HOUSE START TIME', \n",
    "                            'NEXT OPEN HOUSE END TIME', 'SOURCE', 'MLS#', 'FAVORITE', 'INTERESTED', \"LOCATION\"])\n",
    "\n",
    "sanfrancisco_ca_dropped_col = sanfrancisco_ca.drop(columns=['SALE TYPE', 'SOLD DATE', 'DAYS ON MARKET', '$/SQUARE FEET', 'STATUS', 'NEXT OPEN HOUSE START TIME', \n",
    "                            'NEXT OPEN HOUSE END TIME', 'SOURCE', 'MLS#', 'FAVORITE', 'INTERESTED', \"LOCATION\"])\n",
    "\n",
    "sandiego_ca_dropped_col = sandiego_ca.drop(columns=['SALE TYPE', 'SOLD DATE', 'DAYS ON MARKET', '$/SQUARE FEET', 'STATUS', 'NEXT OPEN HOUSE START TIME', \n",
    "                            'NEXT OPEN HOUSE END TIME', 'SOURCE', 'MLS#', 'FAVORITE', 'INTERESTED', \"LOCATION\"])\n",
    "\n"
   ]
  },
  {
   "cell_type": "code",
   "execution_count": 53,
   "metadata": {},
   "outputs": [],
   "source": [
    "boise_id_renamed = boise_id_dropped_col.rename(columns={\"PROPERTY TYPE\": \"property_type\", \"ADDRESS\": \"address\", \"CITY\":\"city\", \"STATE OR PROVINCE\":\"state\",\n",
    "                             \"ZIP OR POSTAL CODE\":\"zip_code\", \"PRICE\":\"price\", \"BEDS\":\"beds\", \"BATHS\":\"baths\",\n",
    "                             \"SQUARE FEET\":\"square_feet\", \"LOT SIZE\":'lot_size', \n",
    "                              \"YEAR BUILT\":\"year_built\", \"HOA/MONTH\":\"hoa_permonth\", \n",
    "                              \"URL (SEE http://www.redfin.com/buy-a-home/comparative-market-analysis FOR INFO ON PRICING)\":\"url\",\n",
    "                              \"LATITUDE\":\"latitude\", \"LONGITUDE\":\"longitude\"})\n",
    "\n",
    "lasvegas_nv_renamed = lasvegas_nv_dropped_col.rename(columns={\"PROPERTY TYPE\": \"property_type\", \"ADDRESS\": \"address\", \"CITY\":\"city\", \"STATE OR PROVINCE\":\"state\",\n",
    "                             \"ZIP OR POSTAL CODE\":\"zip_code\", \"PRICE\":\"price\", \"BEDS\":\"beds\", \"BATHS\":\"baths\",\n",
    "                             \"SQUARE FEET\":\"square_feet\", \"LOT SIZE\":'lot_size', \n",
    "                              \"YEAR BUILT\":\"year_built\", \"HOA/MONTH\":\"hoa_permonth\", \n",
    "                              \"URL (SEE http://www.redfin.com/buy-a-home/comparative-market-analysis FOR INFO ON PRICING)\":\"url\",\n",
    "                              \"LATITUDE\":\"latitude\", \"LONGITUDE\":\"longitude\"})\n",
    "\n",
    "losangeles_ca_renamed = losangeles_ca_dropped_col.rename(columns={\"PROPERTY TYPE\": \"property_type\", \"ADDRESS\": \"address\", \"CITY\":\"city\", \"STATE OR PROVINCE\":\"state\",\n",
    "                             \"ZIP OR POSTAL CODE\":\"zip_code\", \"PRICE\":\"price\", \"BEDS\":\"beds\", \"BATHS\":\"baths\",\n",
    "                             \"SQUARE FEET\":\"square_feet\", \"LOT SIZE\":'lot_size', \n",
    "                              \"YEAR BUILT\":\"year_built\", \"HOA/MONTH\":\"hoa_permonth\", \n",
    "                              \"URL (SEE http://www.redfin.com/buy-a-home/comparative-market-analysis FOR INFO ON PRICING)\":\"url\",\n",
    "                              \"LATITUDE\":\"latitude\", \"LONGITUDE\":\"longitude\"})\n",
    "\n",
    "seattle_wa_renamed = seattle_wa_dropped_col.rename(columns={\"PROPERTY TYPE\": \"property_type\", \"ADDRESS\": \"address\", \"CITY\":\"city\", \"STATE OR PROVINCE\":\"state\",\n",
    "                             \"ZIP OR POSTAL CODE\":\"zip_code\", \"PRICE\":\"price\", \"BEDS\":\"beds\", \"BATHS\":\"baths\",\n",
    "                             \"SQUARE FEET\":\"square_feet\", \"LOT SIZE\":'lot_size', \n",
    "                              \"YEAR BUILT\":\"year_built\", \"HOA/MONTH\":\"hoa_permonth\", \n",
    "                              \"URL (SEE http://www.redfin.com/buy-a-home/comparative-market-analysis FOR INFO ON PRICING)\":\"url\",\n",
    "                              \"LATITUDE\":\"latitude\", \"LONGITUDE\":\"longitude\"})\n",
    "\n",
    "portlan_or_renamed = portlan_or_dropped_col.rename(columns={\"PROPERTY TYPE\": \"property_type\", \"ADDRESS\": \"address\", \"CITY\":\"city\", \"STATE OR PROVINCE\":\"state\",\n",
    "                             \"ZIP OR POSTAL CODE\":\"zip_code\", \"PRICE\":\"price\", \"BEDS\":\"beds\", \"BATHS\":\"baths\",\n",
    "                             \"SQUARE FEET\":\"square_feet\", \"LOT SIZE\":'lot_size', \n",
    "                              \"YEAR BUILT\":\"year_built\", \"HOA/MONTH\":\"hoa_permonth\", \n",
    "                              \"URL (SEE http://www.redfin.com/buy-a-home/comparative-market-analysis FOR INFO ON PRICING)\":\"url\",\n",
    "                              \"LATITUDE\":\"latitude\", \"LONGITUDE\":\"longitude\"})\n",
    "\n",
    "sanfrancisco_ca_renamed = sanfrancisco_ca_dropped_col.rename(columns={\"PROPERTY TYPE\": \"property_type\", \"ADDRESS\": \"address\", \"CITY\":\"city\", \"STATE OR PROVINCE\":\"state\",\n",
    "                             \"ZIP OR POSTAL CODE\":\"zip_code\", \"PRICE\":\"price\", \"BEDS\":\"beds\", \"BATHS\":\"baths\",\n",
    "                             \"SQUARE FEET\":\"square_feet\", \"LOT SIZE\":'lot_size', \n",
    "                              \"YEAR BUILT\":\"year_built\", \"HOA/MONTH\":\"hoa_permonth\", \n",
    "                              \"URL (SEE http://www.redfin.com/buy-a-home/comparative-market-analysis FOR INFO ON PRICING)\":\"url\",\n",
    "                              \"LATITUDE\":\"latitude\", \"LONGITUDE\":\"longitude\"})\n",
    "\n",
    "\n",
    "sandiego_ca_renamed = sandiego_ca_dropped_col.rename(columns={\"PROPERTY TYPE\": \"property_type\", \"ADDRESS\": \"address\", \"CITY\":\"city\", \"STATE OR PROVINCE\":\"state\",\n",
    "                             \"ZIP OR POSTAL CODE\":\"zip_code\", \"PRICE\":\"price\", \"BEDS\":\"beds\", \"BATHS\":\"baths\",\n",
    "                             \"SQUARE FEET\":\"square_feet\", \"LOT SIZE\":'lot_size', \n",
    "                              \"YEAR BUILT\":\"year_built\", \"HOA/MONTH\":\"hoa_permonth\", \n",
    "                              \"URL (SEE http://www.redfin.com/buy-a-home/comparative-market-analysis FOR INFO ON PRICING)\":\"url\",\n",
    "                              \"LATITUDE\":\"latitude\", \"LONGITUDE\":\"longitude\"})"
   ]
  },
  {
   "cell_type": "code",
   "execution_count": 54,
   "metadata": {},
   "outputs": [],
   "source": [
    "sandiego_ca_renamed.to_csv(\"redfin_resources/redfin_sandiego_ca.csv\")\n",
    "sanfrancisco_ca_renamed.to_csv(\"redfin_resources/redfin_sanfrancisco_ca.csv\")\n",
    "portlan_or_renamed.to_csv(\"redfin_resources/redfin_portlan_or.csv\")\n",
    "seattle_wa_renamed.to_csv(\"redfin_resources/redfin_seattle_wa.csv\")\n",
    "losangeles_ca_renamed.to_csv(\"redfin_resources/redfin_losangeles_ca.csv\")\n",
    "lasvegas_nv_renamed.to_csv(\"redfin_resources/redfin_lasvegas_nv.csv\")\n",
    "boise_id_renamed.to_csv(\"redfin_resources/redfin_boise_id.csv\")\n",
    "\n"
   ]
  },
  {
   "cell_type": "code",
   "execution_count": null,
   "metadata": {},
   "outputs": [],
   "source": []
  },
  {
   "cell_type": "code",
   "execution_count": null,
   "metadata": {},
   "outputs": [],
   "source": []
  }
 ],
 "metadata": {
  "kernelspec": {
   "display_name": "Python 3",
   "language": "python",
   "name": "python3"
  },
  "language_info": {
   "codemirror_mode": {
    "name": "ipython",
    "version": 3
   },
   "file_extension": ".py",
   "mimetype": "text/x-python",
   "name": "python",
   "nbconvert_exporter": "python",
   "pygments_lexer": "ipython3",
   "version": "3.7.6"
  }
 },
 "nbformat": 4,
 "nbformat_minor": 4
}
