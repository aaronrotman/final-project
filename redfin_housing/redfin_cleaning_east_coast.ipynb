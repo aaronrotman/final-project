{
 "cells": [
  {
   "cell_type": "code",
   "execution_count": 1,
   "metadata": {},
   "outputs": [],
   "source": [
    "# Dependencies \n",
    "import pandas as pd\n",
    "import numpy as np"
   ]
  },
  {
   "cell_type": "code",
   "execution_count": 2,
   "metadata": {},
   "outputs": [],
   "source": [
    "# Read in Redfin data from csv files \n",
    "boston_ma = pd.read_csv(\"../redfin_data_raw/boston_2020-08-06-13-22-39.csv\")\n",
    "nashville_tn = pd.read_csv(\"../redfin_data_raw/nashville_2020-08-06-13-19-58.csv\")\n",
    "washington_dc = pd.read_csv(\"../redfin_data_raw/washington_dc_2020-08-06-13-23-51.csv\")\n",
    "miami_fl = pd.read_csv(\"../redfin_data_raw/miami_2020-08-06-13-17-23.csv\")\n",
    "newyork_ny = pd.read_csv(\"../redfin_data_raw/new_york_2020-08-06-13-15-57.csv\")\n"
   ]
  },
  {
   "cell_type": "code",
   "execution_count": null,
   "metadata": {},
   "outputs": [],
   "source": [
    "# Preview Data\n",
    "\n",
    "#Boston\n",
    "boston_ma.head()"
   ]
  },
  {
   "cell_type": "code",
   "execution_count": null,
   "metadata": {},
   "outputs": [],
   "source": [
    "# Nashville\n",
    "nashville_tn.head()"
   ]
  },
  {
   "cell_type": "code",
   "execution_count": null,
   "metadata": {},
   "outputs": [],
   "source": [
    "# Washington DC\n",
    "washington_dc.head()"
   ]
  },
  {
   "cell_type": "code",
   "execution_count": null,
   "metadata": {},
   "outputs": [],
   "source": [
    "# Miami\n",
    "miami_fl.head()"
   ]
  },
  {
   "cell_type": "code",
   "execution_count": null,
   "metadata": {},
   "outputs": [],
   "source": [
    "# New York\n",
    "newyork_ny.head()"
   ]
  },
  {
   "cell_type": "code",
   "execution_count": 3,
   "metadata": {},
   "outputs": [],
   "source": [
    "boston_ma_dropped_col = boston_ma.drop(columns=['SALE TYPE', 'SOLD DATE', 'DAYS ON MARKET', '$/SQUARE FEET', 'STATUS', 'NEXT OPEN HOUSE START TIME', \n",
    "                            'NEXT OPEN HOUSE END TIME', 'SOURCE', 'MLS#', 'FAVORITE', 'INTERESTED', \"LOCATION\"])\n",
    "\n",
    "nashville_tn_dropped_col = nashville_tn.drop(columns=['SALE TYPE', 'SOLD DATE', 'DAYS ON MARKET', '$/SQUARE FEET', 'STATUS', 'NEXT OPEN HOUSE START TIME', \n",
    "                            'NEXT OPEN HOUSE END TIME', 'SOURCE', 'MLS#', 'FAVORITE', 'INTERESTED', \"LOCATION\"])\n",
    "\n",
    "washington_dc_dropped_col = washington_dc.drop(columns=['SALE TYPE', 'SOLD DATE', 'DAYS ON MARKET', '$/SQUARE FEET', 'STATUS', 'NEXT OPEN HOUSE START TIME', \n",
    "                            'NEXT OPEN HOUSE END TIME', 'SOURCE', 'MLS#', 'FAVORITE', 'INTERESTED', \"LOCATION\"])\n",
    "\n",
    "miami_fl_dropped_col = miami_fl.drop(columns=['SALE TYPE', 'SOLD DATE', 'DAYS ON MARKET', '$/SQUARE FEET', 'STATUS', 'NEXT OPEN HOUSE START TIME', \n",
    "                            'NEXT OPEN HOUSE END TIME', 'SOURCE', 'MLS#', 'FAVORITE', 'INTERESTED', \"LOCATION\"])\n",
    "\n",
    "newyork_ny_dropped_col = newyork_ny.drop(columns=['SALE TYPE', 'SOLD DATE', 'DAYS ON MARKET', '$/SQUARE FEET', 'STATUS', 'NEXT OPEN HOUSE START TIME', \n",
    "                            'NEXT OPEN HOUSE END TIME', 'SOURCE', 'MLS#', 'FAVORITE', 'INTERESTED', \"LOCATION\"])\n"
   ]
  },
  {
   "cell_type": "code",
   "execution_count": 4,
   "metadata": {},
   "outputs": [],
   "source": [
    "boston_ma_renamed = boston_ma_dropped_col.rename(columns={\"PROPERTY TYPE\": \"property_type\", \"ADDRESS\": \"address\", \"CITY\":\"city\", \"STATE OR PROVINCE\":\"state\",\n",
    "                             \"ZIP OR POSTAL CODE\":\"zip_code\", \"PRICE\":\"price\", \"BEDS\":\"beds\", \"BATHS\":\"baths\",\n",
    "                             \"SQUARE FEET\":\"square_feet\", \"LOT SIZE\":'lot_size', \n",
    "                              \"YEAR BUILT\":\"year_built\", \"HOA/MONTH\":\"hoa_permonth\", \n",
    "                              \"URL (SEE http://www.redfin.com/buy-a-home/comparative-market-analysis FOR INFO ON PRICING)\":\"url\",\n",
    "                              \"LATITUDE\":\"latitude\", \"LONGITUDE\":\"longitude\"})\n",
    "\n",
    "nashville_tn_renamed = nashville_tn_dropped_col.rename(columns={\"PROPERTY TYPE\": \"property_type\", \"ADDRESS\": \"address\", \"CITY\":\"city\", \"STATE OR PROVINCE\":\"state\",\n",
    "                             \"ZIP OR POSTAL CODE\":\"zip_code\", \"PRICE\":\"price\", \"BEDS\":\"beds\", \"BATHS\":\"baths\",\n",
    "                             \"SQUARE FEET\":\"square_feet\", \"LOT SIZE\":'lot_size', \n",
    "                              \"YEAR BUILT\":\"year_built\", \"HOA/MONTH\":\"hoa_permonth\", \n",
    "                              \"URL (SEE http://www.redfin.com/buy-a-home/comparative-market-analysis FOR INFO ON PRICING)\":\"url\",\n",
    "                              \"LATITUDE\":\"latitude\", \"LONGITUDE\":\"longitude\"})\n",
    "\n",
    "washington_dc_renamed = washington_dc_dropped_col.rename(columns={\"PROPERTY TYPE\": \"property_type\", \"ADDRESS\": \"address\", \"CITY\":\"city\", \"STATE OR PROVINCE\":\"state\",\n",
    "                             \"ZIP OR POSTAL CODE\":\"zip_code\", \"PRICE\":\"price\", \"BEDS\":\"beds\", \"BATHS\":\"baths\",\n",
    "                             \"SQUARE FEET\":\"square_feet\", \"LOT SIZE\":'lot_size', \n",
    "                              \"YEAR BUILT\":\"year_built\", \"HOA/MONTH\":\"hoa_permonth\", \n",
    "                              \"URL (SEE http://www.redfin.com/buy-a-home/comparative-market-analysis FOR INFO ON PRICING)\":\"url\",\n",
    "                              \"LATITUDE\":\"latitude\", \"LONGITUDE\":\"longitude\"})\n",
    "\n",
    "miami_fl_renamed = miami_fl_dropped_col.rename(columns={\"PROPERTY TYPE\": \"property_type\", \"ADDRESS\": \"address\", \"CITY\":\"city\", \"STATE OR PROVINCE\":\"state\",\n",
    "                             \"ZIP OR POSTAL CODE\":\"zip_code\", \"PRICE\":\"price\", \"BEDS\":\"beds\", \"BATHS\":\"baths\",\n",
    "                             \"SQUARE FEET\":\"square_feet\", \"LOT SIZE\":'lot_size', \n",
    "                              \"YEAR BUILT\":\"year_built\", \"HOA/MONTH\":\"hoa_permonth\", \n",
    "                              \"URL (SEE http://www.redfin.com/buy-a-home/comparative-market-analysis FOR INFO ON PRICING)\":\"url\",\n",
    "                              \"LATITUDE\":\"latitude\", \"LONGITUDE\":\"longitude\"})\n",
    "\n",
    "newyork_ny_renamed = newyork_ny_dropped_col.rename(columns={\"PROPERTY TYPE\": \"property_type\", \"ADDRESS\": \"address\", \"CITY\":\"city\", \"STATE OR PROVINCE\":\"state\",\n",
    "                             \"ZIP OR POSTAL CODE\":\"zip_code\", \"PRICE\":\"price\", \"BEDS\":\"beds\", \"BATHS\":\"baths\",\n",
    "                             \"SQUARE FEET\":\"square_feet\", \"LOT SIZE\":'lot_size', \n",
    "                              \"YEAR BUILT\":\"year_built\", \"HOA/MONTH\":\"hoa_permonth\", \n",
    "                              \"URL (SEE http://www.redfin.com/buy-a-home/comparative-market-analysis FOR INFO ON PRICING)\":\"url\",\n",
    "                              \"LATITUDE\":\"latitude\", \"LONGITUDE\":\"longitude\"})"
   ]
  },
  {
   "cell_type": "code",
   "execution_count": 6,
   "metadata": {},
   "outputs": [],
   "source": [
    "boston_ma_renamed.to_csv(\"redfin_resources/redfin_boston_ma.csv\")\n",
    "nashville_tn_renamed.to_csv(\"redfin_resources/redfin_nashville_tn.csv\")\n",
    "washington_dc_renamed.to_csv(\"redfin_resources/redfin_washington_dc.csv\")\n",
    "miami_fl_renamed.to_csv(\"redfin_resources/redfin_miami_fl.csv\")\n",
    "newyork_ny_renamed.to_csv(\"redfin_resources/redfin_newyork_ny.csv\")\n",
    "\n"
   ]
  },
  {
   "cell_type": "code",
   "execution_count": null,
   "metadata": {},
   "outputs": [],
   "source": []
  },
  {
   "cell_type": "code",
   "execution_count": null,
   "metadata": {},
   "outputs": [],
   "source": []
  }
 ],
 "metadata": {
  "kernelspec": {
   "display_name": "Python 3",
   "language": "python",
   "name": "python3"
  },
  "language_info": {
   "codemirror_mode": {
    "name": "ipython",
    "version": 3
   },
   "file_extension": ".py",
   "mimetype": "text/x-python",
   "name": "python",
   "nbconvert_exporter": "python",
   "pygments_lexer": "ipython3",
   "version": "3.6.10"
  }
 },
 "nbformat": 4,
 "nbformat_minor": 4
}
