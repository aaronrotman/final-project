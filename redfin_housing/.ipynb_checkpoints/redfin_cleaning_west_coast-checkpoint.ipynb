{
 "cells": [
  {
   "cell_type": "code",
   "execution_count": 1,
   "metadata": {},
   "outputs": [],
   "source": [
    "import pandas as pd\n",
    "import numpy as np"
   ]
  },
  {
   "cell_type": "code",
   "execution_count": 5,
   "metadata": {},
   "outputs": [],
   "source": [
    "sanfrancisco_ca = pd.read_csv(\"west_coast_redfin/redfin_2020-08-04-20-37-20.csv\")\n",
    "boise_id = pd.read_csv(\"west_coast_redfin/redfin_2020-08-04-21-35-08.csv\")\n",
    "x = pd.read_csv(\"west_coast_redfin/redfin_2020-08-06-09-58-31.csv\")\n"
   ]
  },
  {
   "cell_type": "code",
   "execution_count": 6,
   "metadata": {},
   "outputs": [
    {
     "data": {
      "text/html": [
       "<div>\n",
       "<style scoped>\n",
       "    .dataframe tbody tr th:only-of-type {\n",
       "        vertical-align: middle;\n",
       "    }\n",
       "\n",
       "    .dataframe tbody tr th {\n",
       "        vertical-align: top;\n",
       "    }\n",
       "\n",
       "    .dataframe thead th {\n",
       "        text-align: right;\n",
       "    }\n",
       "</style>\n",
       "<table border=\"1\" class=\"dataframe\">\n",
       "  <thead>\n",
       "    <tr style=\"text-align: right;\">\n",
       "      <th></th>\n",
       "      <th>SALE TYPE</th>\n",
       "      <th>SOLD DATE</th>\n",
       "      <th>PROPERTY TYPE</th>\n",
       "      <th>ADDRESS</th>\n",
       "      <th>CITY</th>\n",
       "      <th>STATE OR PROVINCE</th>\n",
       "      <th>ZIP OR POSTAL CODE</th>\n",
       "      <th>PRICE</th>\n",
       "      <th>BEDS</th>\n",
       "      <th>BATHS</th>\n",
       "      <th>...</th>\n",
       "      <th>STATUS</th>\n",
       "      <th>NEXT OPEN HOUSE START TIME</th>\n",
       "      <th>NEXT OPEN HOUSE END TIME</th>\n",
       "      <th>URL (SEE http://www.redfin.com/buy-a-home/comparative-market-analysis FOR INFO ON PRICING)</th>\n",
       "      <th>SOURCE</th>\n",
       "      <th>MLS#</th>\n",
       "      <th>FAVORITE</th>\n",
       "      <th>INTERESTED</th>\n",
       "      <th>LATITUDE</th>\n",
       "      <th>LONGITUDE</th>\n",
       "    </tr>\n",
       "  </thead>\n",
       "  <tbody>\n",
       "    <tr>\n",
       "      <th>0</th>\n",
       "      <td>MLS Listing</td>\n",
       "      <td>NaN</td>\n",
       "      <td>Single Family Residential</td>\n",
       "      <td>2100 N 17th St</td>\n",
       "      <td>Boise</td>\n",
       "      <td>ID</td>\n",
       "      <td>83702</td>\n",
       "      <td>899000</td>\n",
       "      <td>3.0</td>\n",
       "      <td>2.5</td>\n",
       "      <td>...</td>\n",
       "      <td>Active</td>\n",
       "      <td>NaN</td>\n",
       "      <td>NaN</td>\n",
       "      <td>http://www.redfin.com/ID/Boise/2100-N-17th-St-...</td>\n",
       "      <td>IMLS</td>\n",
       "      <td>98776112</td>\n",
       "      <td>N</td>\n",
       "      <td>Y</td>\n",
       "      <td>43.639235</td>\n",
       "      <td>-116.209058</td>\n",
       "    </tr>\n",
       "    <tr>\n",
       "      <th>1</th>\n",
       "      <td>MLS Listing</td>\n",
       "      <td>NaN</td>\n",
       "      <td>Single Family Residential</td>\n",
       "      <td>4797 Arrowhead Way</td>\n",
       "      <td>Boise</td>\n",
       "      <td>ID</td>\n",
       "      <td>83709</td>\n",
       "      <td>268900</td>\n",
       "      <td>3.0</td>\n",
       "      <td>1.0</td>\n",
       "      <td>...</td>\n",
       "      <td>Active</td>\n",
       "      <td>NaN</td>\n",
       "      <td>NaN</td>\n",
       "      <td>http://www.redfin.com/ID/Boise/4797-Arrowhead-...</td>\n",
       "      <td>IMLS</td>\n",
       "      <td>98776108</td>\n",
       "      <td>N</td>\n",
       "      <td>Y</td>\n",
       "      <td>43.559434</td>\n",
       "      <td>-116.276367</td>\n",
       "    </tr>\n",
       "  </tbody>\n",
       "</table>\n",
       "<p>2 rows × 27 columns</p>\n",
       "</div>"
      ],
      "text/plain": [
       "     SALE TYPE  SOLD DATE              PROPERTY TYPE             ADDRESS  \\\n",
       "0  MLS Listing        NaN  Single Family Residential      2100 N 17th St   \n",
       "1  MLS Listing        NaN  Single Family Residential  4797 Arrowhead Way   \n",
       "\n",
       "    CITY STATE OR PROVINCE ZIP OR POSTAL CODE   PRICE  BEDS  BATHS  ...  \\\n",
       "0  Boise                ID              83702  899000   3.0    2.5  ...   \n",
       "1  Boise                ID              83709  268900   3.0    1.0  ...   \n",
       "\n",
       "   STATUS  NEXT OPEN HOUSE START TIME  NEXT OPEN HOUSE END TIME  \\\n",
       "0  Active                         NaN                       NaN   \n",
       "1  Active                         NaN                       NaN   \n",
       "\n",
       "   URL (SEE http://www.redfin.com/buy-a-home/comparative-market-analysis FOR INFO ON PRICING)  \\\n",
       "0  http://www.redfin.com/ID/Boise/2100-N-17th-St-...                                            \n",
       "1  http://www.redfin.com/ID/Boise/4797-Arrowhead-...                                            \n",
       "\n",
       "   SOURCE      MLS#  FAVORITE INTERESTED   LATITUDE   LONGITUDE  \n",
       "0    IMLS  98776112         N          Y  43.639235 -116.209058  \n",
       "1    IMLS  98776108         N          Y  43.559434 -116.276367  \n",
       "\n",
       "[2 rows x 27 columns]"
      ]
     },
     "execution_count": 6,
     "metadata": {},
     "output_type": "execute_result"
    }
   ],
   "source": [
    "boise_id.head(2)\n",
    "# sanfrancisco_ca.head(2)"
   ]
  },
  {
   "cell_type": "code",
   "execution_count": null,
   "metadata": {},
   "outputs": [],
   "source": [
    "milwaukee_wi.head(2)"
   ]
  },
  {
   "cell_type": "code",
   "execution_count": null,
   "metadata": {},
   "outputs": [],
   "source": [
    "nevada_mo.head(2)"
   ]
  },
  {
   "cell_type": "code",
   "execution_count": null,
   "metadata": {},
   "outputs": [],
   "source": [
    "okcity_ok.head(2)"
   ]
  },
  {
   "cell_type": "code",
   "execution_count": null,
   "metadata": {},
   "outputs": [],
   "source": [
    "# for col in littleRock_ar.columns: \n",
    "#     print(col) "
   ]
  },
  {
   "cell_type": "code",
   "execution_count": null,
   "metadata": {},
   "outputs": [],
   "source": [
    "little_rock_ar_dropped_col = littleRock_ar.drop(columns=['SALE TYPE', 'SOLD DATE', 'DAYS ON MARKET', '$/SQUARE FEET', 'STATUS', 'NEXT OPEN HOUSE START TIME', \n",
    "                            'NEXT OPEN HOUSE END TIME', 'SOURCE', 'MLS#', 'FAVORITE', 'INTERESTED', \"LOCATION\"])\n",
    "\n",
    "milwaukee_wi_dropped_col = milwaukee_wi.drop(columns=['SALE TYPE', 'SOLD DATE', 'DAYS ON MARKET', '$/SQUARE FEET', 'STATUS', 'NEXT OPEN HOUSE START TIME', \n",
    "                            'NEXT OPEN HOUSE END TIME', 'SOURCE', 'MLS#', 'FAVORITE', 'INTERESTED', \"LOCATION\"])\n",
    "\n",
    "nevada_mo_dropped_col = nevada_mo.drop(columns=['SALE TYPE', 'SOLD DATE', 'DAYS ON MARKET', '$/SQUARE FEET', 'STATUS', 'NEXT OPEN HOUSE START TIME', \n",
    "                            'NEXT OPEN HOUSE END TIME', 'SOURCE', 'MLS#', 'FAVORITE', 'INTERESTED', \"LOCATION\"])\n",
    "\n",
    "okcity_ok_dropped_col = okcity_ok.drop(columns=['SALE TYPE', 'SOLD DATE', 'DAYS ON MARKET', '$/SQUARE FEET', 'STATUS', 'NEXT OPEN HOUSE START TIME', \n",
    "                            'NEXT OPEN HOUSE END TIME', 'SOURCE', 'MLS#', 'FAVORITE', 'INTERESTED', \"LOCATION\"])\n"
   ]
  },
  {
   "cell_type": "code",
   "execution_count": null,
   "metadata": {},
   "outputs": [],
   "source": [
    "little_rock_ar_dropped_col.head(2)"
   ]
  },
  {
   "cell_type": "code",
   "execution_count": null,
   "metadata": {},
   "outputs": [],
   "source": [
    "milwaukee_wi_dropped_col.head(2)"
   ]
  },
  {
   "cell_type": "code",
   "execution_count": null,
   "metadata": {},
   "outputs": [],
   "source": [
    "nevada_mo_dropped_col.head(2)"
   ]
  },
  {
   "cell_type": "code",
   "execution_count": null,
   "metadata": {},
   "outputs": [],
   "source": [
    "okcity_ok_dropped_col.head(2)"
   ]
  },
  {
   "cell_type": "code",
   "execution_count": null,
   "metadata": {},
   "outputs": [],
   "source": [
    "little_rock_ar_renamed = little_rock_ar_dropped_col.rename(columns={\"PROPERTY TYPE\": \"property_type\", \"ADDRESS\": \"address\", \"CITY\":\"city\", \"STATE OR PROVINCE\":\"state\",\n",
    "                             \"ZIP OR POSTAL CODE\":\"zip_code\", \"PRICE\":\"price\", \"BEDS\":\"beds\", \"BATHS\":\"baths\",\n",
    "                             \"SQUARE FEET\":\"square_feet\", \"LOT SIZE\":'lot_size', \n",
    "                              \"YEAR BUILT\":\"year_built\", \"HOA/MONTH\":\"hoa_permonth\", \n",
    "                              \"URL (SEE http://www.redfin.com/buy-a-home/comparative-market-analysis FOR INFO ON PRICING)\":\"url\",\n",
    "                              \"LATITUDE\":\"latitude\", \"LONGITUDE\":\"longitude\"})\n",
    "\n",
    "milwaukee_wi_renamed = milwaukee_wi_dropped_col.rename(columns={\"PROPERTY TYPE\": \"property_type\", \"ADDRESS\": \"address\", \"CITY\":\"city\", \"STATE OR PROVINCE\":\"state\",\n",
    "                             \"ZIP OR POSTAL CODE\":\"zip_code\", \"PRICE\":\"price\", \"BEDS\":\"beds\", \"BATHS\":\"baths\",\n",
    "                             \"SQUARE FEET\":\"square_feet\", \"LOT SIZE\":'lot_size', \n",
    "                              \"YEAR BUILT\":\"year_built\", \"HOA/MONTH\":\"hoa_permonth\", \n",
    "                              \"URL (SEE http://www.redfin.com/buy-a-home/comparative-market-analysis FOR INFO ON PRICING)\":\"url\",\n",
    "                              \"LATITUDE\":\"latitude\", \"LONGITUDE\":\"longitude\"})\n",
    "\n",
    "nevada_mo_renamed = nevada_mo_dropped_col.rename(columns={\"PROPERTY TYPE\": \"property_type\", \"ADDRESS\": \"address\", \"CITY\":\"city\", \"STATE OR PROVINCE\":\"state\",\n",
    "                             \"ZIP OR POSTAL CODE\":\"zip_code\", \"PRICE\":\"price\", \"BEDS\":\"beds\", \"BATHS\":\"baths\",\n",
    "                             \"SQUARE FEET\":\"square_feet\", \"LOT SIZE\":'lot_size', \n",
    "                              \"YEAR BUILT\":\"year_built\", \"HOA/MONTH\":\"hoa_permonth\", \n",
    "                              \"URL (SEE http://www.redfin.com/buy-a-home/comparative-market-analysis FOR INFO ON PRICING)\":\"url\",\n",
    "                              \"LATITUDE\":\"latitude\", \"LONGITUDE\":\"longitude\"})\n",
    "\n",
    "okcity_ok_renamed = okcity_ok_dropped_col.rename(columns={\"PROPERTY TYPE\": \"property_type\", \"ADDRESS\": \"address\", \"CITY\":\"city\", \"STATE OR PROVINCE\":\"state\",\n",
    "                             \"ZIP OR POSTAL CODE\":\"zip_code\", \"PRICE\":\"price\", \"BEDS\":\"beds\", \"BATHS\":\"baths\",\n",
    "                             \"SQUARE FEET\":\"square_feet\", \"LOT SIZE\":'lot_size', \n",
    "                              \"YEAR BUILT\":\"year_built\", \"HOA/MONTH\":\"hoa_permonth\", \n",
    "                              \"URL (SEE http://www.redfin.com/buy-a-home/comparative-market-analysis FOR INFO ON PRICING)\":\"url\",\n",
    "                              \"LATITUDE\":\"latitude\", \"LONGITUDE\":\"longitude\"})\n"
   ]
  },
  {
   "cell_type": "code",
   "execution_count": null,
   "metadata": {},
   "outputs": [],
   "source": [
    "little_rock_ar_renamed.head(2)"
   ]
  },
  {
   "cell_type": "code",
   "execution_count": null,
   "metadata": {},
   "outputs": [],
   "source": [
    "milwaukee_wi_renamed.head(2)"
   ]
  },
  {
   "cell_type": "code",
   "execution_count": null,
   "metadata": {},
   "outputs": [],
   "source": [
    "nevada_mo_renamed.head(2)"
   ]
  },
  {
   "cell_type": "code",
   "execution_count": null,
   "metadata": {},
   "outputs": [],
   "source": [
    "okcity_ok_renamed.head(2)"
   ]
  },
  {
   "cell_type": "code",
   "execution_count": null,
   "metadata": {},
   "outputs": [],
   "source": [
    "little_rock_ar_renamed.to_csv(\"redfin_resources/redfin_littleRockAR.csv\")\n",
    "milwaukee_wi_renamed.to_csv(\"redfin_resources/redfin_milwaukeeWI.csv\")\n",
    "nevada_mo_renamed.to_csv(\"redfin_resources/redfin_nevadaMO.csv\")\n",
    "okcity_ok_renamed.to_csv(\"redfin_resources/redfin_okcityOK.csv\")\n",
    "\n"
   ]
  },
  {
   "cell_type": "code",
   "execution_count": null,
   "metadata": {},
   "outputs": [],
   "source": []
  },
  {
   "cell_type": "code",
   "execution_count": null,
   "metadata": {},
   "outputs": [],
   "source": []
  }
 ],
 "metadata": {
  "kernelspec": {
   "display_name": "Python 3",
   "language": "python",
   "name": "python3"
  },
  "language_info": {
   "codemirror_mode": {
    "name": "ipython",
    "version": 3
   },
   "file_extension": ".py",
   "mimetype": "text/x-python",
   "name": "python",
   "nbconvert_exporter": "python",
   "pygments_lexer": "ipython3",
   "version": "3.6.10"
  }
 },
 "nbformat": 4,
 "nbformat_minor": 4
}
